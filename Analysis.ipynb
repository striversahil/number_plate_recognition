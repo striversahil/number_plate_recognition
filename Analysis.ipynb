{
 "cells": [
  {
   "cell_type": "markdown",
   "metadata": {},
   "source": [
    "#### Automated Number Plate Recognition using OpenCV"
   ]
  },
  {
   "cell_type": "code",
   "execution_count": 4,
   "metadata": {},
   "outputs": [],
   "source": [
    "import cv2\n",
    "import pytesseract\n",
    "\n"
   ]
  },
  {
   "cell_type": "code",
   "execution_count": 25,
   "metadata": {},
   "outputs": [],
   "source": [
    "def process_image(image_path):\n",
    "#     Read the image\n",
    "    image = cv2.imread(image_path)\n",
    "#     Resize the image\n",
    "    image = cv2.resize(image, (800, 480))\n",
    "#     Convert to grayscale\n",
    "    gray = cv2.cvtColor(image, cv2.COLOR_BGR2GRAY)\n",
    "#     Canny edge detection\n",
    "    edges = cv2.Canny(gray, threshold1=20, threshold2=20)\n",
    "#     Find contours\n",
    "    contours , _ = cv2.findContours(edges , cv2.RETR_TREE, cv2.CHAIN_APPROX_SIMPLE)\n",
    "#     Find the largest contour\n",
    "    largest_contour = max(contours, key=cv2.contourArea)\n",
    "    # x, y, w, h = cv2.boundingRect(largest_contour)\n",
    "    cv2.drawContours(image, contours, -1, (0, 255, 0), 1)\n",
    "    return image\n",
    "\n",
    "image_path = '/home/sahildev/Development/Projects/DS_ML/number_plate_recognition/data/images/Cars300.png'\n",
    "output = process_image(image_path)\n",
    "cv2.imwrite('/home/sahildev/Development/Projects/DS_ML/number_plate_recognition/extracted/gray.jpg', output)\n",
    "cv2.imshow('Output', output)\n",
    "key = cv2.waitKey(0)\n",
    "cv2.destroyAllWindows()"
   ]
  }
 ],
 "metadata": {
  "kernelspec": {
   "display_name": "Python 3",
   "language": "python",
   "name": "python3"
  },
  "language_info": {
   "codemirror_mode": {
    "name": "ipython",
    "version": 3
   },
   "file_extension": ".py",
   "mimetype": "text/x-python",
   "name": "python",
   "nbconvert_exporter": "python",
   "pygments_lexer": "ipython3",
   "version": "3.10.12"
  }
 },
 "nbformat": 4,
 "nbformat_minor": 2
}
